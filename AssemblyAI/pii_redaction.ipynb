{
 "cells": [
  {
   "cell_type": "code",
   "execution_count": 3,
   "id": "29fc4ba8-f7b2-4036-908f-19358d381358",
   "metadata": {
    "tags": []
   },
   "outputs": [],
   "source": [
    "import requests\n",
    "from config import api_key\n",
    "headers = {\n",
    "    \"authorization\": api_key,\n",
    "    \"content-type\": \"application/json\"\n",
    "}"
   ]
  },
  {
   "cell_type": "code",
   "execution_count": 15,
   "id": "0d64f1fb-8cc6-4f42-a821-e0228165d4a9",
   "metadata": {
    "tags": []
   },
   "outputs": [
    {
     "name": "stdout",
     "output_type": "stream",
     "text": [
      "{'id': 'oqmutiz4dj-f180-4b88-ae67-6409de68da7e', 'language_model': 'assemblyai_default', 'acoustic_model': 'assemblyai_default', 'language_code': 'en_us', 'status': 'queued', 'audio_url': 'https://bit.ly/3rBnQ8i', 'text': None, 'words': None, 'utterances': None, 'confidence': None, 'audio_duration': None, 'punctuate': True, 'format_text': True, 'dual_channel': None, 'webhook_url': None, 'webhook_status_code': None, 'speed_boost': False, 'auto_highlights_result': None, 'auto_highlights': False, 'audio_start_from': None, 'audio_end_at': None, 'word_boost': [], 'boost_param': None, 'filter_profanity': False, 'redact_pii': True, 'redact_pii_audio': False, 'redact_pii_audio_quality': 'mp3', 'redact_pii_policies': ['drug', 'injury', 'person_name', 'email_address', 'date_of_birth'], 'redact_pii_sub': 'entity_name', 'speaker_labels': False, 'content_safety': False, 'iab_categories': False, 'content_safety_labels': {}, 'iab_categories_result': {}, 'language_detection': False, 'custom_spelling': None, 'disfluencies': False, 'sentiment_analysis': False, 'sentiment_analysis_results': None, 'auto_chapters': False, 'chapters': None, 'entity_detection': False, 'entities': None}\n"
     ]
    }
   ],
   "source": [
    "endpoint = \"https://api.assemblyai.com/v2/transcript\"\n",
    "json = {\n",
    "    \"audio_url\": \"https://bit.ly/3rBnQ8i\",\n",
    "    \"redact_pii\": True,\n",
    "    \"redact_pii_sub\": \"entity_name\", \n",
    "    \"redact_pii_policies\": [\"drug\", \"injury\", \"person_name\", \"email_address\", \"date_of_birth\"]\n",
    "}\n",
    "\n",
    "response = requests.post(endpoint, json=json, headers=headers)\n",
    "print(response.json())"
   ]
  },
  {
   "cell_type": "code",
   "execution_count": 16,
   "id": "50e19378-0204-47a2-b962-4a55033adcc4",
   "metadata": {},
   "outputs": [
    {
     "name": "stdout",
     "output_type": "stream",
     "text": [
      "https://api.assemblyai.com/v2/transcript/oqmutiz4dj-f180-4b88-ae67-6409de68da7e\n"
     ]
    }
   ],
   "source": [
    "endpoint_full = f\"{endpoint}/{response.json().get('id')}\"\n",
    "print(endpoint_full)"
   ]
  },
  {
   "cell_type": "code",
   "execution_count": 32,
   "id": "99e4bf23-09c2-43c2-a717-af2f05e5375a",
   "metadata": {},
   "outputs": [],
   "source": [
    "res = requests.get(endpoint_full, headers=headers)"
   ]
  },
  {
   "cell_type": "code",
   "execution_count": 33,
   "id": "3676af1d-c662-4001-a58b-a61ad7cef3d5",
   "metadata": {},
   "outputs": [
    {
     "data": {
      "text/plain": [
       "'completed'"
      ]
     },
     "execution_count": 33,
     "metadata": {},
     "output_type": "execute_result"
    }
   ],
   "source": [
    "res.json().get('status')"
   ]
  },
  {
   "cell_type": "code",
   "execution_count": 34,
   "id": "ae319a11-16f8-45f0-a4fc-46f4baef35f9",
   "metadata": {},
   "outputs": [
    {
     "data": {
      "text/plain": [
       "\"Ted talks are recorded live at the Ted Conference. This episode features psychologist and happiness expert [PERSON_NAME] [PERSON_NAME]. This talk contains powerful visuals. Download the [EMAIL_ADDRESS] [PERSON_NAME] [PERSON_NAME] when you have 21 minutes to speak 2 million years seems like a really long time, but evolutionarily 2 million years is nothing. And yet, in 2 million years, the human brain has nearly tripled in mass, going from the one and a quarter pound brain of our ancestor here habilis to the almost three pound meatloaf that everybody here has between their ears. What is it about a big brain that nature was so eager for everyone else to have one? Well, it turns out when brains triple in size, they don't just get three times bigger. They gain new structures. And one of the main reasons that our brain got so big is because it got a new part called the frontal lobe and particularly a part called the prefrontal cortex. And what does the prefrontal cortex do for you that should justify the entire architectural overhaul of the human skull in the blink of evolutionary time? Well, turns out the prefrontal cortex does lots of things, but one of the most important things it does is it is an experience simulator pilots practice in flight simulators so that they don't make real mistakes in planes. Human beings have this marvelous adaptation that they can actually have experiences in their heads before they try them out in real life. This is a trick that none of our ancestors could do, that no other animal can do quite like we can. It's a marvelous adaptation. It's up there with opposable thumbs and standing upright in language as one of the things that got our species out of the trees and into the shopping mall. Now, all of you have done this. I mean, Ben and Jerry's doesn't have liver in onion ice cream, and it's not because they whipped some up, tried it and went Yuck. It's because without leaving your armchair, you can simulate that flavor and say Yuck before you make it. Let's see how your experience simulators are working. Let's just run a quick diagnostic before I PROCEED with the rest of the talk. Here's two different futures that I invite you to contemplate, and you can try to simulate them and tell me which one you think you might prefer. One of them is winning the lottery. This is about $314,000,000, and the other is becoming paraplegic. So just give it a moment of thought. You probably don't feel like you need a moment of thought. And Interestingly, there are data on these two groups of people, data on how happy they are. And this is exactly what you expected, isn't it? But these aren't the data. I made these up. These are the data you failed the pop quiz, and you're hardly five minutes into the lecture because the fact is that a year after losing the use of their legs and a year after winning the Lotto. Lottery winners and paraplegics are equally happy with their lives. Now, don't feel too bad about failing the first pop quiz, because everybody fails all of the pop quizzes all of the time. The research that my laboratory has been doing that economists and psychologists around the country have been doing have revealed something really quite startling to us, something we call the impact bias, which is the tendency for the simulator to work badly for the simulator to make you believe that different outcomes are more different than, in fact, they really are. From field studies to laboratory studies, we see that winning or losing an election, gaining or losing a romantic partner, getting or not getting a promotion, passing or not passing a College test, on and on have far less impact, less intensity, and much less duration than people expect them to have now. In fact, a recent study this almost floors me. A recent study showing how major life traumas affects people suggest that if it happened over three months ago, with only a few exceptions, it has no impact whatsoever on your happiness. Why? Because happiness can be synthesized. Sir [PERSON_NAME] [PERSON_NAME] wrote in 1642, I am the happiest man alive. I have that in me that can convert poverty to riches, adversity to prosperity. I am more invulnerable than [PERSON_NAME] fortune. Half not one place to hit me. What kind of remarkable machinery does this guy have in his head? Well, it turns out it's precisely the same remarkable machinery that all of us have. Human beings have something that we might think of as a psychological immune system, a system of cognitive processes, largely nonconscious cognitive processes that help them change their views of the world so that they can feel better about the worlds in which they find themselves. Like Sir [PERSON_NAME], you have this machine. Unlike Sir [PERSON_NAME], you seem not to know it. We synthesize happiness, but we think happiness is a thing to be found. Now, you don't need me to tell you give you too many examples of people synthesizing happiness. I suspect, though, I'm going to show you some experimental evidence. You don't have to look very far for evidence. I took a copy of The New York Times and tried to find some instances of people synthesizing happiness. And here are three guys synthesizing happiness. I'm so much better off physically, financially, mentally, almost every other way. I don't want 1 minute regret. It was a glorious experience. I believe it turned out for the best. Who are these characters who are so damn happy? Well, the first one is [PERSON_NAME] [PERSON_NAME]. Some of you are old enough to remember he was the chairman of the House of Representatives, and he resigned in disgrace when this young Republican named [PERSON_NAME] [PERSON_NAME] found out about a shady book deal he had done. He lost everything. Most powerful Democrat in the country lost everything. He lost his money, lost his power. What does he have to say all these years later about it. I am so much better off physically, financially, mentally, in almost every other way. What other way would there be to be better off? Vegetable, minerally, animal? He's pretty much covered in there. [PERSON_NAME] [PERSON_NAME] is somebody you've never heard of. [PERSON_NAME] [PERSON_NAME] uttered these words upon being released. He was 78 years old. He'd spent 37 years in Louisiana State Penitentiary for a crime he didn't commit. He was ultimately exonerated at the age of 78 through DNA evidence. And what did he have to say about his experience? I don't have 1 minute to regret. It was a glorious experience. Glorious. This guy is not saying, well, there's some nice guys at a gym. It's glorious. It's a word we usually reserve for something like a religious experience. [PERSON_NAME] [PERSON_NAME] uttered these words, and he's somebody you might have known, but didn't, because in 1949, he read a little article in the paper about a hamburger stand owned by these two brothers named [PERSON_NAME]. And he thought, that's a really neat idea. So he went to find them. They said, we'd give you a franchise on this for $3,000. [PERSON_NAME] went back to New York, asked his brother, who was an investment banker, to loan him the $3,000. And his brother's immortal words were, you idiot, nobody eats hamburgers. He wouldn't lend him the money. And, of course, six months later, [PERSON_NAME] [PERSON_NAME] had exactly the same idea. It turns out people do eat hamburgers. And [PERSON_NAME] [PERSON_NAME], for a while, became the richest man in America. Oh, and then finally, some of you recognize this young photo of [PERSON_NAME] [PERSON_NAME], who was the original drummer for the Beatles until they kind of, like, sent him out on an errand and snuck away and picked up [PERSON_NAME] on a tour. Well, in 1994, when [PERSON_NAME] [PERSON_NAME] was interviewed. Yes, he's still a drummer. Yes, he's a studio musician. He ate this to say, I'm happier than I would have been with the Beatles. Okay. There's something important to be learned from these people, and it is the secret of happiness. Here it is finally to be revealed. First, accrue wealth, power and prestige, then lose it. Second, spend as much of your life in prison as you possibly can. Third, make somebody else really, really rich. And finally, never, ever join the Beatles. Yeah, right. Because when people synthesize happiness, as these gentlemen seem to have done, we all smile at them, but we kind of roll our eyes and say, yeah, right. You never really wanted the job. Oh, yeah, right. You really didn't have that much in common with her, and you figured that out just about the time she threw the engagement ring in your face. We smirk because we believe that synthetic happiness is not of the same quality as what we might call natural happiness. What are these terms? Natural happiness is what we get when we get what we wanted. And synthetic happiness is what we make when we don't get what we wanted. And in our society, we have a strong belief that synthetic happiness is of an inferior kind. Why do we have that belief? Well, it's very simple. What kind of economic engine would keep churning if we believe that not getting what we want could make us just as happy as getting it. With all apologies to my friend [PERSON_NAME] [PERSON_NAME], a shopping mall full of Zen monks is not going to be particularly profitable because they don't want stuff enough. I want to suggest to you that synthetic happiness is every bit as real and enduring as the kind of happiness you stumble upon when you get exactly what you are aiming for. I'm a scientist, so I'm going to do this not with rhetoric, but by marinating you in a little bit of data. Let me first show you an experimental paradigm that is used to demonstrate the synthesis of happiness among regular old folks. And this isn't mine. There's a 50 year old paradigm called the free choice paradigm. It's very simple. You bring in, say, six objects, and you ask a subject to rank them from the most to the least liked in this case, because the experiment I'm going to tell you about uses them. These are [PERSON_NAME] prints, so everybody can rank these [PERSON_NAME] prints from the one they like the most to the one they like the least. Now we give you a choice. We happen to have some extra prints in the closet. We're going to give you one as your prize to take home. We happen to have number three and number four. We tell the subject there's a bit of a difficult choice because neither one is preferred strongly to the other. But naturally, people tend to pick number three because they liked it a little better than number four. Sometime later, it could be 15 minutes, it could be 15 days. The same stimuli are put before the subject, and the subject is asked to re rank the stimuli. Tell us how much you like them. Now, what happens? Watch as happiness is synthesized, this is the result that has been replicated over and over again. You're watching happiness be synthesized. Would you like to see it again? Happiness. The one I got is really better than I thought. That other one I didn't get sucks. That's the synthesis of happiness. Now, what's the right response to that? Yeah, right. Now, here's the experiment we did, and I hope this is going to convince you that yeah, right was not the right response. We did this experiment with a group of patients who had interrogate amnesia. These are hospitalized patients. Most of them have Corsicoff syndrome, polyneurotic psychosis that they drank way too much and they can't make new memories. Okay? They remember their childhood, but if you walk in and introduce yourself and then leave the room when you come back, they don't know who you are. We took our [PERSON_NAME] prints to the hospital and we asked these patients to rank them from the one they liked the most to the one they liked the least. We then gave them the choice between number three and number four like everybody else. They said, Gee, thanks, Doc. That's great. I could use a new print. I'll take number three. We explained we would have number three mailed to them. We gathered up our materials and we went out of the room and counted to a half hour. Back into the room, we say, Hi, we're back. The patients, bless them, say, oh, Doc, I'm sorry. I got a memory problem. It's why I'm here. If I've met you before, I don't remember. Really, [PERSON_NAME]? You don't remember? I was just here with the [PERSON_NAME] Prince. Sorry, Doc, I just don't have a clue. No problem, [PERSON_NAME]. All I want you to do is rank these for me from the one you like the most to the one you like the least. What do they do? Well, let's first check and make sure they're really amnesiac. We ask these amnesiac patients to tell us which one they own, which one they chose last time, which one is theirs, and what we find is amnesia patients. Just guess. These are normal controls. If I did this with you, all of you would know which print you chose. But if I do this with amnesia patients, they don't have a clue. They can't pick their print out of a lineup. Here's what normal controls do. They synthesize happiness. Right? This is the change in liking score. The change from the first time they ranked to the second time they ranked normal controls show. That was the magic I showed you. Now I'm showing it to you in graphical form. The one I own is better than I thought. The one I didn't own, the one I left behind is not as good as I thought. And [PERSON_NAME] do exactly the same thing. Think about this result. These people like better the one they own, but they don't know they own it. Yeah, right is not the right response. What these people did when they synthesized happiness is they really, truly changed their affective hedonic aesthetic reactions to that poster. They're not just saying it because they own it, because they don't know they own it. When psychologists show you bars, you know that they are showing you averages of lots of people. And yet all of us have this psychological immune system, this capacity to synthesize happiness. But some of us do this trick better than others. And some situations allow anybody to do it more effectively than other situations do. It turns out that freedom, the ability to make up your mind and change your mind, is the friend of natural happiness because it allows you to choose among all those delicious futures and find the one that you would most enjoy. But freedom to choose, to change and make up your mind is the enemy of synthetic happiness. And I'm going to show you why [PERSON_NAME] already knows. Of course. Dog birds, tech support. How come may I abuse you? My printer prints a blank page after every document. Why would you complain about getting free paper freeze? Aren't you just giving my own paper, dad? Man, look at the quality of the free paper compared to your lousy regular paper. Only a fool or a liar would say that they look the same. Now that you mention it, it does seem a little silkier. What are you doing? I'm helping people accept the things they cannot change. Indeed, the psychological immune system works best when we are totally stuck. When we are trapped. There's the difference between dating and marriage, right? I mean, you go out on a date with a guy and he picks his nose. You don't go out on another date. You're married to a guy and he picks his nose. He has a heart of gold. Don't touch the fruitcake. Right? You find a way to be happy with what's happening. Now, what I want to show you is that people don't know this about themselves. And not knowing this can work to our supreme disadvantage. Here's an experiment we did at Harvard. We created a photography course. A black and white photography course. And we allowed students to come in and learn how to use a dark room. So we gave them cameras. They went around campus. They took twelve pictures of their favorite professors in their dorm room and their dog. And all the other things they wanted to have Harvard memories of. They bring us the camera, we make up a contact sheet. They figure out which are the two best pictures. And we now spend 6 hours teaching them about dark rooms. And they blow two of them up. And they have two gorgeous eight by ten glossies of meaningful things to them. And we say, which one would you like to give up? I have to give one up. Oh, yes. We need one as evidence of the class project. So you have to give me one. You have to make a choice. You get to keep one, and I get to keep one. Now, there are two conditions in this experiment. In one case, the students are told. But, you know, if you want to change your mind. I'll always have the other one here. And in the next four days before I actually mail it to headquarters. I'll be glad to headquarters. I'll be glad to swap it out with you. In fact, I'll come to your dorm room and just give me an email. Better yet, I'll check with you. You ever want to change your mind? It's totally returnable. The other half of the students are told exactly the opposite. Make your choice. And by the way, the mail is going out. Gosh in two minutes to England. Your picture will be winging its way over the Atlantic. You will never see it again. Now, half of the students in each of these conditions are asked to make predictions about how much they're going to come to like the picture that they keep and the picture they leave behind. Other students are just sent back to their little dorm rooms and they are measured over the next three to six days on their liking satisfaction with the pictures. Look at what we find. First of all, here's what students think is going to happen. They think they're going to maybe come to like the picture they chose a little more than the one they left behind. But these are not statistically significant differences. It's a very small increase and it doesn't much matter whether they were in the reversible or irreversible condition. Wrong. Oh, bad simulators. Because here's what's really happening both right before the swap and five days later, people who are stuck with that picture, who have no choice, who can never change their mind like it a lot, and people who are deliberating. Should I return it? Have I gotten the right one? Maybe this isn't the good one, maybe I left the good one have killed themselves. They don't like their picture and in fact, even after the opportunity to swap has expired, they still don't like their picture. Why? Because the irreversible condition is not conducive to the synthesis of happiness. So here's the final piece of this experiment. We bring in a whole new group of naive Harvard students and we say we're doing a photography course and we can do it one of two ways we could do it so that when you take the two pictures, you'd have four days to change your mind or we're doing another course where you take the two pictures and you make up your mind right away and you can never change it. Which course would you like to be in? 66% of the students, two thirds prefer to be in the course where they have the opportunity to change their mind. Hello. 66% of the students choose to be in the course in which they will ultimately be deeply dissatisfied with the picture because they do not know the conditions under which synthetic happiness grows. The [PERSON_NAME] said everything best, of course, and he's making my point here, but he's making it hyperbolically. Tis nothing good or bad, but thinking makes it so. It's nice poetry, but that can't exactly be right. Is there really nothing good or bad? Is it really the case that gallbladder surgery and a trip to Paris are just the same thing? That seems like a one question IQ test. They can't be exactly the same in more turgid prose, but closer to the truth was the father of modern capitalism, [PERSON_NAME] [PERSON_NAME], and he said this. This is worth contemplating. The great source of both the misery and disorders of human life seems to arise from overrating the difference between one permanent situation and another. Some of these situations may no doubt deserve to be preferred to others but none of them can deserve to be pursued with that passionate ardor which drives us to violate the rules either of prudence or of justice or to corrupt the future tranquility of our minds either by shame from the remembrance of our own folly or by remorse for the horror of our own injustice. In other words, yes, some things are better than others. We should have preferences that lead us into one future over another. But when those preferences drive us too hard and too fast because we have overrated the difference between these futures, we are at risk. When our ambition is bounded, it leads us to work joyfully. When our ambition is unbounded, it leads us to lie, to cheat, to steal, to hurt others, to sacrifice things of real value. When our fears are bounded, we're prudent, we're cautious, we're thoughtful. When our fears are unbounded and overblown, we're reckless and we're cowardly. The lesson I want to leave you with from these data is that our longings and our worries are both to some degree overblown because we have within us the capacity to manufacture the very commodity we are constantly chasing when we choose experience. Thank you. That was [PERSON_NAME] [PERSON_NAME] [PERSON_NAME] recorded at Ted 2004 in Monterey, California, February 2004. For more information on Ted, visit TED.com.\""
      ]
     },
     "execution_count": 34,
     "metadata": {},
     "output_type": "execute_result"
    }
   ],
   "source": [
    "res.json().get('text')"
   ]
  },
  {
   "cell_type": "code",
   "execution_count": null,
   "id": "56b190ef-460d-4c2d-9a12-90988556da0d",
   "metadata": {},
   "outputs": [],
   "source": []
  }
 ],
 "metadata": {
  "kernelspec": {
   "display_name": "default:Python",
   "language": "python",
   "name": "conda-env-default-py"
  },
  "language_info": {
   "codemirror_mode": {
    "name": "ipython",
    "version": 3
   },
   "file_extension": ".py",
   "mimetype": "text/x-python",
   "name": "python",
   "nbconvert_exporter": "python",
   "pygments_lexer": "ipython3",
   "version": "3.9.12"
  }
 },
 "nbformat": 4,
 "nbformat_minor": 5
}
