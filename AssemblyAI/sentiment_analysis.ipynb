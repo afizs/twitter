{
 "cells": [
  {
   "cell_type": "code",
   "execution_count": 5,
   "id": "0084d21e-67f7-418d-9723-6c567832c26e",
   "metadata": {},
   "outputs": [
    {
     "name": "stdout",
     "output_type": "stream",
     "text": [
      "{'acoustic_model': 'assemblyai_default',\n",
      " 'audio_duration': None,\n",
      " 'audio_end_at': None,\n",
      " 'audio_start_from': None,\n",
      " 'audio_url': 'https://bit.ly/3rBnQ8i',\n",
      " 'auto_chapters': False,\n",
      " 'auto_highlights': False,\n",
      " 'auto_highlights_result': None,\n",
      " 'boost_param': None,\n",
      " 'chapters': None,\n",
      " 'confidence': None,\n",
      " 'content_safety': False,\n",
      " 'content_safety_labels': {},\n",
      " 'custom_spelling': None,\n",
      " 'disfluencies': False,\n",
      " 'dual_channel': None,\n",
      " 'entities': None,\n",
      " 'entity_detection': False,\n",
      " 'filter_profanity': False,\n",
      " 'format_text': True,\n",
      " 'iab_categories': False,\n",
      " 'iab_categories_result': {},\n",
      " 'id': 'oqx6sby2ly-8750-4d8a-8e06-ff4fb0c14390',\n",
      " 'language_code': 'en_us',\n",
      " 'language_detection': False,\n",
      " 'language_model': 'assemblyai_default',\n",
      " 'punctuate': True,\n",
      " 'redact_pii': False,\n",
      " 'redact_pii_audio': False,\n",
      " 'redact_pii_audio_quality': None,\n",
      " 'redact_pii_policies': None,\n",
      " 'redact_pii_sub': None,\n",
      " 'sentiment_analysis': True,\n",
      " 'sentiment_analysis_results': None,\n",
      " 'speaker_labels': False,\n",
      " 'speed_boost': False,\n",
      " 'status': 'queued',\n",
      " 'text': None,\n",
      " 'utterances': None,\n",
      " 'webhook_status_code': None,\n",
      " 'webhook_url': None,\n",
      " 'word_boost': [],\n",
      " 'words': None}\n"
     ]
    }
   ],
   "source": [
    "import requests\n",
    "from pprint import pprint\n",
    "from config import api_key\n",
    "endpoint = \"https://api.assemblyai.com/v2/transcript\"\n",
    "json = {\n",
    "    \"audio_url\": \"https://bit.ly/3rBnQ8i\",\n",
    "    \"sentiment_analysis\": True\n",
    "}\n",
    "headers = {\n",
    "    \"authorization\": api_key,\n",
    "    \"content-type\": \"application/json\"\n",
    "}\n",
    "response = requests.post(endpoint, json=json, headers=headers)\n",
    "transcription_id = response.json().get('id')"
   ]
  },
  {
   "cell_type": "code",
   "execution_count": 13,
   "id": "2f59d7f3-2651-4642-bf9c-b298fe09ef8b",
   "metadata": {},
   "outputs": [
    {
     "data": {
      "text/plain": [
       "[{'text': 'Ted talks are recorded live at the Ted Conference.',\n",
       "  'start': 8590,\n",
       "  'end': 10966,\n",
       "  'sentiment': 'NEUTRAL',\n",
       "  'confidence': 0.9250546097755432,\n",
       "  'speaker': None},\n",
       " {'text': 'This episode features psychologist and happiness expert Dan Gilbert.',\n",
       "  'start': 11038,\n",
       "  'end': 15646,\n",
       "  'sentiment': 'POSITIVE',\n",
       "  'confidence': 0.6465127468109131,\n",
       "  'speaker': None},\n",
       " {'text': 'This talk contains powerful visuals.',\n",
       "  'start': 15838,\n",
       "  'end': 17746,\n",
       "  'sentiment': 'POSITIVE',\n",
       "  'confidence': 0.9168913960456848,\n",
       "  'speaker': None},\n",
       " {'text': 'Download the video@ted.com Dan Gilbert when you have 21 minutes to speak 2 million years seems like a really long time, but evolutionarily 2 million years is nothing.',\n",
       "  'start': 17818,\n",
       "  'end': 33010,\n",
       "  'sentiment': 'NEUTRAL',\n",
       "  'confidence': 0.5542539358139038,\n",
       "  'speaker': None},\n",
       " {'text': 'And yet, in 2 million years, the human brain has nearly tripled in mass, going from the one and a quarter pound brain of our ancestor here habilis to the almost three pound meatloaf that everybody here has between their ears.',\n",
       "  'start': 33060,\n",
       "  'end': 48230,\n",
       "  'sentiment': 'NEUTRAL',\n",
       "  'confidence': 0.5575075149536133,\n",
       "  'speaker': None}]"
      ]
     },
     "execution_count": 13,
     "metadata": {},
     "output_type": "execute_result"
    }
   ],
   "source": [
    "transaction_id = 'oqx6sby2ly-8750-4d8a-8e06-ff4fb0c14390'\n",
    "end_point = f\"https://api.assemblyai.com/v2/transcript/{transaction_id}\"\n",
    "res = requests.get(end_point, headers=headers)\n",
    "res.json().get('sentiment_analysis_results')[:5]"
   ]
  },
  {
   "cell_type": "code",
   "execution_count": null,
   "id": "f82a923a-fbe3-47f5-aa6e-baaabf0c1885",
   "metadata": {},
   "outputs": [],
   "source": []
  }
 ],
 "metadata": {
  "kernelspec": {
   "display_name": "default:Python",
   "language": "python",
   "name": "conda-env-default-py"
  },
  "language_info": {
   "codemirror_mode": {
    "name": "ipython",
    "version": 3
   },
   "file_extension": ".py",
   "mimetype": "text/x-python",
   "name": "python",
   "nbconvert_exporter": "python",
   "pygments_lexer": "ipython3",
   "version": "3.9.12"
  }
 },
 "nbformat": 4,
 "nbformat_minor": 5
}
